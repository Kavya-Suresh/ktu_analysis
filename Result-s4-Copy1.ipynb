{
 "cells": [
  {
   "cell_type": "code",
   "execution_count": 39,
   "metadata": {},
   "outputs": [],
   "source": [
    "import PyPDF2\n",
    "import re\n",
    "import pandas as pd\n",
    "import numpy as np\n",
    "pd.set_option('display.max_rows', 120)"
   ]
  },
  {
   "cell_type": "code",
   "execution_count": 40,
   "metadata": {},
   "outputs": [],
   "source": [
    "# open/link pdf\n",
    "pdfObj = open('result_MBT.pdf', 'rb')\n",
    "pdfReader = PyPDF2.PdfFileReader(pdfObj)\n",
    "n=pdfReader.numPages\n",
    "x=[];y=[];data=[]"
   ]
  },
  {
   "cell_type": "code",
   "execution_count": 41,
   "metadata": {},
   "outputs": [],
   "source": [
    "# get page no. in y\n",
    "for i in range(n) :\n",
    "    pageObj=pdfReader.getPage(i)\n",
    "    x.append((pageObj.extractText()).encode('utf-8'))\n",
    "for i in range(n) :#byte to string\n",
    "    y.append(str(x[i],'utf-8'))  "
   ]
  },
  {
   "cell_type": "code",
   "execution_count": 42,
   "metadata": {},
   "outputs": [],
   "source": [
    "def val(sub):\n",
    "    sub=np.where(sub=='O',10,sub)\n",
    "    sub=np.where(sub=='A+',9,sub)\n",
    "    sub=np.where(sub=='A',8.5,sub)\n",
    "    sub=np.where(sub=='B+',8,sub)\n",
    "    sub=np.where(sub=='B',7,sub)\n",
    "    sub=np.where(sub=='C',6,sub)\n",
    "    sub=np.where(sub=='P',5,sub)\n",
    "    return sub"
   ]
  },
  {
   "cell_type": "code",
   "execution_count": 43,
   "metadata": {},
   "outputs": [],
   "source": [
    "#pg m-n cs withot none etc\n",
    "# iMBT,iMA202,iHS200,iCS202,iCS204,iCS206,iCS208,iCS232,iCS234\n",
    "m=7\n",
    "n=13\n",
    "# roll,s1,s2,s3,s4,s5,s6,s7,s8,\n",
    "\n",
    "ro,v1,v2,v3,v4,v5,v6,v7,v8 = 'MBT','MA202','HS200','CS202','CS204','CS206','CS208','CS232','CS234'\n",
    "\n",
    "#s-sub , v- sub names to be shown\n",
    "# print(\"-------\")\n",
    "data=[]\n",
    "for g in range(m,n):\n",
    "    roll=iCS208=iMA202=iCS202=iCS204=iCS206=iHS200=iCS232=iCS234=None\n",
    "    f = re.findall(\"MBT1[1-9][A-Z]{2}[0-9]{3}|[A-Z]{2}[0-9]{3}\\([A-Za-z\\+]+\\)\", y[g])\n",
    "    j=0\n",
    "    for j in f:\n",
    "        if(re.search(ro,j)): # insert nd clear\n",
    "            if(roll and s1 and s2 and s3 and s4 and s5 and s6 and s7 and s8 and (s1!='Absent' and s2!='Absent' and s3!='Absent' and s4!='Absent' and s5!='Absent' and s6!='Absent' and s7!='Absent' and s8!='Absent') and (s1!='F' and s2!='F' and s3!='F' and s4!='F' and s5!='F' and s6!='F'and s7!='F' and s8!='F') and (s1!='FE' and s2!='FE' and s3!='FE' and s4!='FE' and s5!='FE' and s6!='FE'and s7!='FE' and s8!='FE')):\n",
    "                data.append([roll,s1,s2,s3,s4,s5,s6,s7,s8])#insert\n",
    "            s1=s2=s3s4=s5=s6=s7=s8=None #clear\n",
    "\n",
    "        #store\n",
    "        if(re.search(ro,j)):\n",
    "            roll=j\n",
    "        else:    \n",
    "            t = re.search(\"[A-Z]{2}[0-9]{3}\\(([A-Za-z\\+]+)\\)\",j)\n",
    "            t=t.group(1)\n",
    "            if(re.search(v1,j)):\n",
    "                s1=t\n",
    "            elif(re.search(v2,j)):\n",
    "                s2=t\n",
    "            elif(re.search(v3,j)):\n",
    "                s3=t\n",
    "            elif(re.search(v4,j)):\n",
    "                s4=t\n",
    "            elif(re.search(v5,j)):\n",
    "                s5=t\n",
    "            elif(re.search(v6,j)):\n",
    "                s6=t\n",
    "            elif(re.search(v7,j)):\n",
    "                s7=t\n",
    "            elif(re.search(v8,j)):\n",
    "                s8=t\n",
    "    d = pd.DataFrame(data,columns = [ro,v1,v2,v3,v4,v5,v6,v7,v8])"
   ]
  },
  {
   "cell_type": "code",
   "execution_count": 44,
   "metadata": {},
   "outputs": [],
   "source": [
    "d.MA202=val(d.MA202)\n",
    "d.HS200=val(d.HS200)\n",
    "d.CS202=val(d.CS202)\n",
    "d.CS204=val(d.CS204)\n",
    "d.CS206=val(d.CS206)\n",
    "d.CS208=val(d.CS208)\n",
    "d.CS232=val(d.CS232)\n",
    "d.CS234=val(d.CS234)\n",
    "total = 0\n",
    "total = d.MA202*4 + d.HS200*3 + d.CS202*4 + d.CS204*4 + d.CS206*3 + d.CS208*3 + d.CS232 + d.CS234\n",
    "avg = total/23\n",
    "x = len(avg)\n",
    "for i in range(x):\n",
    "    avg[i] = round(avg[i],2)\n",
    "d['sgpa'] = avg"
   ]
  },
  {
   "cell_type": "code",
   "execution_count": 45,
   "metadata": {},
   "outputs": [
    {
     "name": "stdout",
     "output_type": "stream",
     "text": [
      "           MBT MA202 HS200 CS202 CS204 CS206 CS208 CS232 CS234  sgpa\n",
      "0   MBT17CS002     6     8     7     6     7     8     9    10  7.13\n",
      "1   MBT17CS005     7     8     6     7     7     6     9    10  7.04\n",
      "2   MBT17CS008     9     9     7     7     7     7     8    10  7.78\n",
      "3   MBT17CS010   8.5   8.5     8     8   8.5     9     9    10  8.48\n",
      "4   MBT17CS012     7     8     6     6     6     6   8.5   8.5  6.65\n",
      "5   MBT17CS014    10     9     9     8     9     8     9    10  8.91\n",
      "6   MBT17CS015     6   8.5     7     8     7   8.5     9     9  7.57\n",
      "7   MBT17CS016     8     8     7     6     7     7    10   8.5  7.33\n",
      "8   MBT17CS018     7     7     7     6     7     7     8   8.5  6.93\n",
      "9   MBT17CS020     8     8     8     6     7     8    10    10   7.7\n",
      "10  MBT17CS022     7   8.5   8.5     7     8    10   8.5    10  8.17\n",
      "11  MBT17CS023     8   8.5     7     7     7     6   8.5    10  7.43\n",
      "12  MBT17CS024     7     8     8     8     7     8     9    10  7.83\n",
      "13  MBT17CS027     9     9     8   8.5     8   8.5    10    10  8.63\n",
      "14  MBT17CS028     8     8     6     7     7     7     8     9  7.26\n",
      "15  MBT17CS029    10    10     9    10   8.5    10    10    10  9.63\n",
      "16  MBT17CS030   8.5     8     7     7     7   8.5     8    10  7.76\n",
      "17  MBT17CS031     7     8     7     8     7     7   8.5    10   7.5\n",
      "18  MBT17CS032     6     8     6     7     7     8     8    10  7.09\n",
      "19  MBT17CS033     7     7     6     7     7     8     9    10  7.17\n",
      "20  MBT17CS035     7   8.5     6     8     7     8     9    10  7.54\n",
      "21  MBT17CS036     7     7     7     7     7     8   8.5   8.5  7.26\n",
      "22  MBT17CS038     8   8.5     8   8.5     8   8.5   8.5    10  8.33\n",
      "23  MBT17CS039     8     8     6     7     7     8     9    10  7.48\n",
      "24  MBT17CS040    10     9     8     8     8     9     9    10  8.74\n",
      "25  MBT17CS042     6     7     7     7     6     6     8     8  6.65\n",
      "26  MBT17CS046     7     8     7     7     7     7     8    10   7.3\n",
      "27  MBT17CS047     6     7     7   8.5   8.5     7    10    10  7.54\n",
      "28  MBT17CS048   8.5     8     8     7     7     8   8.5   8.5  7.83\n",
      "29  MBT17CS050   8.5   8.5   8.5   8.5   8.5     8   8.5    10   8.5\n",
      "30  MBT17CS051     8   8.5     9     9     9   8.5    10    10  8.78\n",
      "31  MBT17CS055     9   8.5     8     8     7     8     8     9  8.15\n",
      "32  MBT17CS056     6     7     6     6     6     7   8.5     8  6.46\n",
      "33  MBT17CS058     9     8     6     8     6     7     8    10  7.52\n",
      "34  MBT17CS059     8     8     8   8.5     8   8.5     8    10  8.24\n",
      "35  MBT17CS060   8.5    10   8.5     9   8.5    10     9    10  9.07\n",
      "36  MBT17CS061     6     8     7     8     7     7   8.5    10  7.33\n",
      "37  MBT17CS062     7     8     6     7     8     7    10     9   7.3\n",
      "38  MBT17CS064     7     7     6     7     8     7     8     8  7.04\n",
      "39  MBT17CS065     6     7     8     8     8     6   8.5     9  7.33\n",
      "40  MBT17CS066     7   8.5     8   8.5     8     9     8    10   8.2\n",
      "41  MBT17CS069     6     7     6     6     6     6     8     7  6.26\n",
      "42  MBT17CS070   8.5    10     9     9     8     9     9    10  8.96\n",
      "43  MBT17CS072     6     8     8     7     6     7   8.5    10   7.2\n",
      "44  MBT17CS077     8     7     7     8     7     7   8.5    10  7.54\n",
      "45  MBT17CS078     6     8     8     9     8     8     9    10  7.96\n",
      "46  MBT17CS080     6     7     7     8   8.5     8     9   8.5  7.48\n",
      "47  MBT17CS085     6     6     6     7     6     6   8.5     7  6.33\n",
      "48  MBT17CS088     8     7     6     8   8.5     8    10    10  7.76\n",
      "49  MBT17CS090     6     8     7     7     7     7   8.5    10  7.15\n",
      "50  MBT17CS091     8     7     6     7     7     7   8.5    10   7.2\n",
      "51  MBT17CS092     7     7     7     8     8     8    10    10   7.7\n",
      "52  MBT17CS094     7     7     6     6     6     6   8.5     9  6.54\n",
      "53  MBT17CS095     8     7     7     7     7     6   8.5     7  7.11\n",
      "54  MBT17CS096     7     9     7     9   8.5     8   8.5    10  8.13\n",
      "55  MBT17CS097   8.5     8     7     7     8     7    10    10  7.78\n",
      "56  MBT17CS099    10   8.5     8     8     8     9   8.5    10  8.65\n",
      "57  MBT17CS102   8.5     9     8     8     8     8     8    10   8.3\n",
      "58  MBT17CS104   8.5     8     8     8     8     8     9    10  8.22\n",
      "59  MBT17CS107     6     8     6     7     6     6     8     8  6.61\n",
      "60  MBT17CS108     6     8     7     7     6     7     8     9  6.96\n",
      "61  MBT17CS111     6     8     6     6     7     6     8     8  6.57\n",
      "62  MBT17CS112     8     8     6     8     7     6    10     9  7.39\n",
      "63  MBT17CS113   8.5   8.5     8     8     7     7     9    10  8.02\n",
      "64  MBT17CS114   8.5   8.5     8     8     7     7     8    10  7.98\n",
      "65  MBT17CS115     8     7     8     7     7     8     8     9  7.61\n",
      "66  MBT17CS117     9   8.5     9   8.5     8     9     8    10  8.72\n",
      "67  MBT17CS118     7     8     6     7     6     7     9   8.5  6.98\n"
     ]
    }
   ],
   "source": [
    "print(d)"
   ]
  },
  {
   "cell_type": "code",
   "execution_count": 46,
   "metadata": {},
   "outputs": [
    {
     "data": {
      "text/plain": [
       "7.642499999999999"
      ]
     },
     "execution_count": 46,
     "metadata": {},
     "output_type": "execute_result"
    }
   ],
   "source": [
    "d['sgpa'].mean()"
   ]
  },
  {
   "cell_type": "code",
   "execution_count": 48,
   "metadata": {},
   "outputs": [],
   "source": [
    "from pandas import ExcelWriter"
   ]
  },
  {
   "cell_type": "code",
   "execution_count": 49,
   "metadata": {},
   "outputs": [],
   "source": [
    "writer = ExcelWriter('Results3.xlsx')\n",
    "d.to_excel(writer,'Sheet5')\n",
    "writer.save()"
   ]
  },
  {
   "cell_type": "code",
   "execution_count": null,
   "metadata": {},
   "outputs": [],
   "source": [
    "#pg m-n cs withot none etc\n",
    "def creat(m,n,roll,s1,s2,s3,s4,s5,s6,s7,s8,ro,v1,v2,v3,v4,v5,v6,v7,v8): #s-sub , v- sub names to be shown\n",
    "    data=[]\n",
    "    for g in range(m,n):\n",
    "        roll=iCS208=iMA202=iCS202=iCS204=iCS206=iHS200=iCS232=iCS234=None\n",
    "        f = re.findall(\"MBT1[1-9][A-Z]{2}[0-9]{3}|[A-Z]{2}[0-9]{3}\\([A-Za-z\\+]+\\)\", y[g])\n",
    "        print(f)\n",
    "        j=0\n",
    "        for j in f:\n",
    "            if(re.search(ro,j)): # insert nd clear\n",
    "                if(roll and s1 and s2 and s3 and s4 and s5 and s6 and s7 and s8 and (s1!='Absent' and s2!='Absent' and s3!='Absent' and s4!='Absent' and s5!='Absent' and s6!='Absent' and s7!='Absent' and s8!='Absent') and (s1!='F' and s2!='F' and s3!='F' and s4!='F' and s5!='F' and s6!='F'and s7!='F' and s8!='F') and (s1!='FE' and s2!='FE' and s3!='FE' and s4!='FE' and s5!='FE' and s6!='FE'and s7!='FE' and s8!='FE')):\n",
    "                    data.append([roll,s1,s2,s3,s4,s5,s6,s7,s8])#insert\n",
    "                s1=s2=s3s4=s5=s6=s7=s8=None #clear\n",
    "\n",
    "            #store\n",
    "            if(re.search(ro,j)):\n",
    "                roll=j\n",
    "            else:    \n",
    "                t = re.search(\"[A-Z]{2}[0-9]{3}\\(([A-Za-z\\+]+)\\)\",j)\n",
    "                t=t.group(1)\n",
    "                if(re.search(v1,j)):\n",
    "                    s1=t\n",
    "                elif(re.search(v2,j)):\n",
    "                    s2=t\n",
    "                elif(re.search(v3,j)):\n",
    "                    s3=t\n",
    "                elif(re.search(v4,j)):\n",
    "                    s4=t\n",
    "                elif(re.search(v5,j)):\n",
    "                    s5=t\n",
    "                elif(re.search(v6,j)):\n",
    "                    s6=t\n",
    "                elif(re.search(v7,j)):\n",
    "                    s7=t\n",
    "                elif(re.search(v8,j)):\n",
    "                    s8=t\n",
    "        d = pd.DataFrame(data,columns = [ro,v1,v2,v3,v4,v5,v6,v7,v8])    "
   ]
  },
  {
   "cell_type": "code",
   "execution_count": null,
   "metadata": {},
   "outputs": [],
   "source": [
    "creat(10,13,iMBT,iMA202,iHS200,iCS202,iCS204,iCS206,iCS208,iCS232,iCS234,'MBT','MA202','HS200','CS202','CS204','CS206','CS208','CS232','CS234')\n",
    "d"
   ]
  }
 ],
 "metadata": {
  "kernelspec": {
   "display_name": "Python 3",
   "language": "python",
   "name": "python3"
  },
  "language_info": {
   "codemirror_mode": {
    "name": "ipython",
    "version": 3
   },
   "file_extension": ".py",
   "mimetype": "text/x-python",
   "name": "python",
   "nbconvert_exporter": "python",
   "pygments_lexer": "ipython3",
   "version": "3.7.3"
  }
 },
 "nbformat": 4,
 "nbformat_minor": 2
}
